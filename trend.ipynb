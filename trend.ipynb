{
 "cells": [
  {
   "cell_type": "code",
   "execution_count": 1,
   "metadata": {},
   "outputs": [],
   "source": [
    "import pandas as pd\n",
    "import numpy as np # type: ignore\n",
    "import matplotlib.pyplot as plt # type: ignore\n",
    "from functions import plot_trend\n",
    "plt.rcParams['axes.grid'] = True\n",
    "import warnings\n",
    "from numpy.polynomial.polyutils import RankWarning  # Импорт RankWarning правильно\n"
   ]
  },
  {
   "cell_type": "code",
   "execution_count": 2,
   "metadata": {},
   "outputs": [],
   "source": [
    "all_sheets = pd.read_excel('MINDRAY Synovent E5.xlsx', sheet_name=None)"
   ]
  },
  {
   "cell_type": "code",
   "execution_count": 3,
   "metadata": {},
   "outputs": [],
   "source": [
    "col_medicine = []\n",
    "lst_data_medicine = []\n",
    "for i, sheet in enumerate(list(all_sheets.keys())):\n",
    "    if i <= 3:\n",
    "        continue\n",
    "    df = all_sheets[sheet]\n",
    "    col = df.columns.to_list()\n",
    "    for col in col:\n",
    "        is_all_numeric = pd.to_numeric(df[col], errors='coerce').notna().all()\n",
    "        if is_all_numeric:\n",
    "            data = df[col]\n",
    "            data = np.array(data[~np.isnan(data)], dtype=float)\n",
    "            lst_data_medicine.append(data)\n",
    "            col_medicine.append(col)\n"
   ]
  },
  {
   "cell_type": "code",
   "execution_count": 4,
   "metadata": {},
   "outputs": [
    {
     "data": {
      "text/plain": [
       "<Figure size 640x480 with 0 Axes>"
      ]
     },
     "metadata": {},
     "output_type": "display_data"
    }
   ],
   "source": [
    "\n",
    "COLOR = 'red'\n",
    "DEGREE = 5\n",
    "\n",
    "with warnings.catch_warnings():\n",
    "    warnings.simplefilter(\"ignore\", RankWarning)\n",
    "    warnings.simplefilter(\"ignore\", RuntimeWarning)\n",
    "    plot_trend(lst_data_medicine, col_medicine, COLOR = COLOR, DEGREE = DEGREE)\n"
   ]
  }
 ],
 "metadata": {
  "kernelspec": {
   "display_name": ".venv",
   "language": "python",
   "name": "python3"
  },
  "language_info": {
   "codemirror_mode": {
    "name": "ipython",
    "version": 3
   },
   "file_extension": ".py",
   "mimetype": "text/x-python",
   "name": "python",
   "nbconvert_exporter": "python",
   "pygments_lexer": "ipython3",
   "version": "3.12.3"
  }
 },
 "nbformat": 4,
 "nbformat_minor": 2
}
